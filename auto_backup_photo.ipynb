{
 "cells": [
  {
   "cell_type": "markdown",
   "metadata": {},
   "source": [
    "### Purpose: To copy media files from selected directory (copied from phone or other devices) for ease of managing those files.\n",
    "### Files will be divided to owners and media types (Apps, Camera or Screenshots)\n",
    "\n",
    "Input :\n",
    "- media_extension (list), \n",
    "- camera_folder - screenshot_folder (if list need change code), \n",
    "- directory\n",
    "- destination_root, \n",
    "- start_backup_month \n",
    "to start backup.\n"
   ]
  },
  {
   "cell_type": "code",
   "execution_count": 1,
   "metadata": {},
   "outputs": [],
   "source": [
    "import os\n",
    "import shutil\n",
    "import datetime\n",
    "import pandas as pd"
   ]
  },
  {
   "cell_type": "markdown",
   "metadata": {},
   "source": [
    "Define custom functions"
   ]
  },
  {
   "cell_type": "code",
   "execution_count": 30,
   "metadata": {},
   "outputs": [],
   "source": [
    "def get_unique_list(lst:list):\n",
    "    unique_list = list(dict.fromkeys(lst))\n",
    "    return unique_list\n",
    "\n",
    "def get_modification_date(filepath):\n",
    "    t = os.path.getmtime(filepath)\n",
    "    exact_time = datetime.datetime.fromtimestamp(t)\n",
    "    year = exact_time.strftime('%Y')\n",
    "    month = exact_time.strftime('%m')\n",
    "    # return year, month\n",
    "    return datetime.date(int(year), int(month), 1)\n",
    "\n",
    "def get_earliest_modification_date(lst_date:list):\n",
    "    min_date = min(lst_date)\n",
    "    min_date_standardized = min_date.strftime('%D')\n",
    "    return min_date_standardized\n",
    "\n",
    "def copy_to_dest(destination_dir, file, source):\n",
    "    if os.path.exists(destination_dir):pass\n",
    "    else:\n",
    "        os.makedirs(destination_dir)\n",
    "    destination = fr'{destination_dir}\\{file}'\n",
    "    shutil.copy2(source, destination) \n"
   ]
  },
  {
   "cell_type": "markdown",
   "metadata": {},
   "source": [
    "Input directory and check list of extensions"
   ]
  },
  {
   "cell_type": "code",
   "execution_count": 36,
   "metadata": {},
   "outputs": [
    {
     "name": "stdout",
     "output_type": "stream",
     "text": [
      "['.ini', '.BNP', '.INP', '.INT', '.BIN', '.JPG', '.BDM', '.XML', '.IND', '.jpg', '.png']\n",
      "07/01/18\n"
     ]
    }
   ],
   "source": [
    "directory = r'C:\\Users\\ADMIN\\Pictures'\n",
    "\n",
    "lst_extension = []\n",
    "lst_date = []\n",
    "for dirpath, dirs, files in os.walk(directory):\n",
    "    if files != []:\n",
    "        for file in files:\n",
    "            filename, file_extension = os.path.splitext(fr'{dirpath}\\{file}')\n",
    "            lst_extension.append(file_extension)\n",
    "            lst_date.append(get_modification_date(fr'{dirpath}\\{file}'))\n",
    "            # print(file)\n",
    "            # print(get_modification_date(fr'{dirpath}\\{file}'))\n",
    "\n",
    "print(get_unique_list(lst_extension))\n",
    "print(get_earliest_modification_date(lst_date))"
   ]
  },
  {
   "cell_type": "markdown",
   "metadata": {},
   "source": [
    "Input here"
   ]
  },
  {
   "cell_type": "code",
   "execution_count": 37,
   "metadata": {},
   "outputs": [],
   "source": [
    "\n",
    "# media_extension = ['.jpg', '.MP4', '.mp4', '.JPG', '.png', '.gif', '.jpeg']\n",
    "\n",
    "# media_extension = ['.JPG', '.MP4']\n",
    "\n",
    "media_extension = ['.JPG', '.jpg', '.png']\n",
    "\n",
    "camera_folder = ['Camera Roll']\n",
    "\n",
    "screenshot_folder = ['Screenshots']\n",
    "\n",
    "high_quality_camera = ['32gb cũ']\n",
    "\n",
    "destination_root = r'F:\\_BACKUP ALL PHOTOS\\_ALL BAO'\n",
    "\n",
    "start_backup_month = datetime.date(2018, 1, 1)"
   ]
  },
  {
   "cell_type": "markdown",
   "metadata": {},
   "source": [
    "Execute code here"
   ]
  },
  {
   "cell_type": "code",
   "execution_count": 38,
   "metadata": {},
   "outputs": [],
   "source": [
    "for dirpath, dirs, files in os.walk(directory):\n",
    "    if files != []:\n",
    "        for file in files:\n",
    "            source = fr'{dirpath}\\{file}'\n",
    "            filename, file_extension = os.path.splitext(source)\n",
    "            if file_extension in media_extension and get_modification_date(source) >= start_backup_month:\n",
    "\n",
    "                # Camera\n",
    "                destination_dir = fr'{destination_root}\\Cameras'\n",
    "                if isinstance(camera_folder, list):\n",
    "                    for folder in camera_folder:\n",
    "                        if folder in dirpath:\n",
    "                            copy_to_dest(destination_dir, file, source)\n",
    "                            success = 1\n",
    "                elif camera_folder in dirpath:\n",
    "                    copy_to_dest(destination_dir, file, source)\n",
    "                    success = 1\n",
    "                else: success = 0\n",
    "\n",
    "                # Screenshot:\n",
    "                if success == 0:\n",
    "                    destination_dir = fr'{destination_root}\\Screenshots'\n",
    "                    if isinstance(screenshot_folder, list):\n",
    "                        for folder in screenshot_folder:\n",
    "                            if folder in dirpath:\n",
    "                                copy_to_dest(destination_dir, file, source)\n",
    "                                success = 1\n",
    "                    elif screenshot_folder in dirpath:\n",
    "                        copy_to_dest(destination_dir, file, source)\n",
    "                        success = 1\n",
    "                    else:\n",
    "                        success = 0\n",
    "\n",
    "                # High Quality Camera:\n",
    "                if success == 0:\n",
    "                    destination_dir = fr'{destination_root}\\High Quality Camera'\n",
    "                    if isinstance(high_quality_camera, list):\n",
    "                        for folder in high_quality_camera:\n",
    "                            if folder in dirpath:\n",
    "                                copy_to_dest(destination_dir, file, source)\n",
    "                                success = 1\n",
    "                    elif high_quality_camera in dirpath:\n",
    "                        copy_to_dest(destination_dir, file, source)\n",
    "                        success = 1\n",
    "                    else:\n",
    "                        success = 0\n",
    "\n",
    "                # Apps\n",
    "                if success == 0:\n",
    "                    destination_dir = fr'{destination_root}\\Apps'\n",
    "                    copy_to_dest(destination_dir, file, source)\n",
    "\n"
   ]
  },
  {
   "cell_type": "markdown",
   "metadata": {},
   "source": [
    "If want to copy folder (copytree)"
   ]
  },
  {
   "cell_type": "code",
   "execution_count": 45,
   "metadata": {},
   "outputs": [],
   "source": [
    "def copytree_to_dest(destination_dir, destination_name, source):\n",
    "    # if os.path.exists(destination_dir):pass\n",
    "    # else:\n",
    "    #     os.makedirs(destination_dir)\n",
    "    destination = fr'{destination_dir}\\{destination_name}'\n",
    "    shutil.copytree(source, destination) "
   ]
  },
  {
   "cell_type": "code",
   "execution_count": 6,
   "metadata": {},
   "outputs": [],
   "source": [
    "directory = 'F:\\_BACKUP ALL PHOTOS\\Oneplus 7T'\n",
    "\n",
    "camera_folder = 'Camera'\n",
    "\n",
    "screenshot_folder = 'Screenshots'\n",
    "\n",
    "destination_root = 'F:\\_BACKUP ALL PHOTOS\\_ALL BAO'\n",
    "\n",
    "for dirpath, dirs, files in os.walk(directory):\n",
    "    if dirs != []:\n",
    "        for dir in dirs:\n",
    "            source = fr'{dirpath}\\{dir}'\n",
    "            if camera_folder == dir:\n",
    "                # destination_dir = fr'{destination_root}\\Camera_Test'\n",
    "                copytree_to_dest(destination_root, 'Camera_Test', source)\n",
    "            elif screenshot_folder == dir:\n",
    "                # destination_dir = fr'{destination_root}\\Screenshot_Test'\n",
    "                copytree_to_dest(destination_root, 'Screenshot_Test', source)\n"
   ]
  },
  {
   "cell_type": "markdown",
   "metadata": {},
   "source": [
    "Get secured filenames"
   ]
  },
  {
   "cell_type": "code",
   "execution_count": 43,
   "metadata": {},
   "outputs": [],
   "source": [
    "secured_directory = r'F:\\_BACKUP ALL PHOTOS\\_ALL BAO\\Secured'\n",
    "\n",
    "secured_filename = os.listdir(secured_directory)\n",
    "\n",
    "df = pd.DataFrame(secured_filename)\n",
    "\n",
    "df.to_csv(fr\"{destination_root}\\secured.csv\")"
   ]
  },
  {
   "cell_type": "markdown",
   "metadata": {},
   "source": [
    "Backup to HDD"
   ]
  },
  {
   "cell_type": "code",
   "execution_count": 46,
   "metadata": {},
   "outputs": [],
   "source": [
    "source_copytree = r'F:\\_BACKUP ALL PHOTOS\\_ALL BAO'\n",
    "\n",
    "hdd_destination = r'I:\\Backup Photo'\n",
    "\n",
    "copytree_to_dest(destination_dir, '_ALL BAO', source_copytree)"
   ]
  },
  {
   "cell_type": "code",
   "execution_count": null,
   "metadata": {},
   "outputs": [],
   "source": []
  }
 ],
 "metadata": {
  "interpreter": {
   "hash": "5713120658bd4218162b74d492e37367ba65a05602f7879e8a5aea7478a261fd"
  },
  "kernelspec": {
   "display_name": "Python 3.10.0 64-bit",
   "language": "python",
   "name": "python3"
  },
  "language_info": {
   "codemirror_mode": {
    "name": "ipython",
    "version": 3
   },
   "file_extension": ".py",
   "mimetype": "text/x-python",
   "name": "python",
   "nbconvert_exporter": "python",
   "pygments_lexer": "ipython3",
   "version": "3.10.0"
  },
  "orig_nbformat": 4
 },
 "nbformat": 4,
 "nbformat_minor": 2
}
